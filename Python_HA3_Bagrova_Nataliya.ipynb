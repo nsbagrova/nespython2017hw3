{
 "cells": [
  {
   "cell_type": "code",
   "execution_count": 1,
   "metadata": {
    "collapsed": true
   },
   "outputs": [],
   "source": [
    "import numpy as np"
   ]
  },
  {
   "cell_type": "markdown",
   "metadata": {},
   "source": [
    "# 1"
   ]
  },
  {
   "cell_type": "code",
   "execution_count": 2,
   "metadata": {
    "collapsed": true
   },
   "outputs": [],
   "source": [
    "X = np.random.rand(100000,3)\n",
    "Y = X.dot(np.array([1,2,3])) + np.random.randn(100000)"
   ]
  },
  {
   "cell_type": "code",
   "execution_count": 4,
   "metadata": {
    "collapsed": true
   },
   "outputs": [],
   "source": [
    "class OLS:\n",
    "    \n",
    "    def __init__(self, y, x):\n",
    "        self.y = y\n",
    "        self.x = x\n",
    "        nrows = self.x.shape[0]\n",
    "        l = np.full((nrows,1), 1) # add intercept (sorry, can't do without it, Sergei allowed)\n",
    "        self.x = np.concatenate((l,x),axis=1) # merge with the 1s column\n",
    "        # self.x = np.vstack((l, self.x))\n",
    "        self.bh = np.dot(np.linalg.inv(np.dot(self.x.T,self.x)), np.dot(self.x.T,self.y)) # betas' calculation\n",
    "        self.pred = self.bh[0]\n",
    "        for i in range(len(self.bh) - 1):\n",
    "            self.pred = self.pred + self.x[:, i+1] * self.bh[i+1]\n",
    "        \n",
    "        self.n = self.x.shape[0]\n",
    "        self.k = self.x.shape[1]\n",
    "        \n",
    "        self.VCV = np.true_divide(1,self.n-self.k) * np.dot(np.dot(self.pred.T,self.pred),\\\n",
    "                                                            np.linalg.inv(np.dot(self.x.T,self.x)))\n",
    "        self.stderror = np.sqrt(np.diagonal(self.VCV))\n",
    "        \n",
    "        self.check = self.y - self.pred\n",
    "        \n",
    "    def beta(self):           \n",
    "        return self.bh\n",
    "            \n",
    "    def predict(self):\n",
    "        return self.pred\n",
    "    \n",
    "    def V(self):\n",
    "        return self.VCV\n",
    "    \n",
    "    def std(self):\n",
    "        return self.stderror\n",
    "    \n",
    "    def check_distr_res(self):\n",
    "        return self.check\n",
    "    "
   ]
  },
  {
   "cell_type": "code",
   "execution_count": 5,
   "metadata": {
    "collapsed": true
   },
   "outputs": [],
   "source": [
    "model = OLS(Y,X)"
   ]
  },
  {
   "cell_type": "code",
   "execution_count": 6,
   "metadata": {},
   "outputs": [
    {
     "data": {
      "text/plain": [
       "array([ 2.99045934,  4.52315569,  3.97512765, ...,  0.64473915,\n",
       "        4.57571085,  4.85057031])"
      ]
     },
     "execution_count": 6,
     "metadata": {},
     "output_type": "execute_result"
    }
   ],
   "source": [
    "model.predict()"
   ]
  },
  {
   "cell_type": "code",
   "execution_count": 7,
   "metadata": {},
   "outputs": [
    {
     "data": {
      "text/plain": [
       "array([[  1.01973613e-03,  -6.13675553e-04,  -6.12250496e-04,\n",
       "         -6.08961296e-04],\n",
       "       [ -6.13675553e-04,   1.22754383e-03,   1.14200284e-06,\n",
       "          2.08860051e-07],\n",
       "       [ -6.12250496e-04,   1.14200284e-06,   1.22191884e-03,\n",
       "         -3.79491424e-06],\n",
       "       [ -6.08961296e-04,   2.08860051e-07,  -3.79491424e-06,\n",
       "          1.22309893e-03]])"
      ]
     },
     "execution_count": 7,
     "metadata": {},
     "output_type": "execute_result"
    }
   ],
   "source": [
    "model.V()"
   ]
  },
  {
   "cell_type": "code",
   "execution_count": 8,
   "metadata": {},
   "outputs": [
    {
     "data": {
      "text/plain": [
       "array([ 0.03193331,  0.03503632,  0.03495596,  0.03497283])"
      ]
     },
     "execution_count": 8,
     "metadata": {},
     "output_type": "execute_result"
    }
   ],
   "source": [
    "model.std()"
   ]
  },
  {
   "cell_type": "code",
   "execution_count": 9,
   "metadata": {},
   "outputs": [
    {
     "data": {
      "text/plain": [
       "array([[<matplotlib.axes._subplots.AxesSubplot object at 0x0000022A93276470>]], dtype=object)"
      ]
     },
     "execution_count": 9,
     "metadata": {},
     "output_type": "execute_result"
    },
    {
     "data": {
      "image/png": "[encoded data removed]",
      "text/plain": [
       "<matplotlib.figure.Figure at 0x22a9321bda0>"
      ]
     },
     "metadata": {},
     "output_type": "display_data"
    }
   ],
   "source": [
    "# check errors are distributed normally\n",
    "import pandas as pd\n",
    "% matplotlib inline\n",
    "pd.DataFrame(model.check_distr_res()).hist(bins = 100)"
   ]
  },
  {
   "cell_type": "markdown",
   "metadata": {},
   "source": [
    "# 2"
   ]
  },
  {
   "cell_type": "code",
   "execution_count": 10,
   "metadata": {
    "collapsed": true
   },
   "outputs": [],
   "source": [
    "# 1-3\n",
    "bh = np.random.uniform(0,1,11)\n",
    "xh = np.random.uniform(-5,5,200)\n",
    "uh = 10 * np.random.rand(200)"
   ]
  },
  {
   "cell_type": "code",
   "execution_count": 11,
   "metadata": {
    "collapsed": true
   },
   "outputs": [],
   "source": [
    "def factorial(n):\n",
    "    \n",
    "    if (n == 1):\n",
    "        return 1\n",
    "    elif (n == 0):\n",
    "        return 1\n",
    "    else:\n",
    "        return n * factorial(n-1)"
   ]
  },
  {
   "cell_type": "code",
   "execution_count": 12,
   "metadata": {
    "collapsed": true
   },
   "outputs": [],
   "source": [
    "# 4\n",
    "yh = list()\n",
    "\n",
    "for i in range(200):\n",
    "    temp = 0\n",
    "    for k in range(11):   \n",
    "        temp = temp + (bh[k] * (xh[i] ** k) / factorial(k))\n",
    "    temp = temp - uh[i]\n",
    "    yh.append(temp)"
   ]
  },
  {
   "cell_type": "code",
   "execution_count": 13,
   "metadata": {
    "collapsed": true
   },
   "outputs": [],
   "source": [
    "import matplotlib"
   ]
  },
  {
   "cell_type": "code",
   "execution_count": 14,
   "metadata": {},
   "outputs": [
    {
     "data": {
      "text/plain": [
       "<matplotlib.collections.PathCollection at 0x22a9452e908>"
      ]
     },
     "execution_count": 14,
     "metadata": {},
     "output_type": "execute_result"
    },
    {
     "data": {
      "image/png": "[encoded data removed]",
      "text/plain": [
       "<matplotlib.figure.Figure at 0x22a94371eb8>"
      ]
     },
     "metadata": {},
     "output_type": "display_data"
    }
   ],
   "source": [
    "matplotlib.pyplot.scatter(xh, yh)"
   ]
  },
  {
   "cell_type": "code",
   "execution_count": 15,
   "metadata": {
    "collapsed": true
   },
   "outputs": [],
   "source": [
    "xh = xh.reshape(200, 1)\n",
    "model = OLS(np.asarray(yh), xh)\n",
    "p = model.predict()"
   ]
  },
  {
   "cell_type": "code",
   "execution_count": 33,
   "metadata": {
    "scrolled": false
   },
   "outputs": [
    {
     "data": {
      "image/png": "[encoded data removed]",
      "text/plain": [
       "<matplotlib.figure.Figure at 0x22a95980470>"
      ]
     },
     "metadata": {},
     "output_type": "display_data"
    }
   ],
   "source": [
    "color_dict = {0:'r',1:'y',2:'g',3:'b'}\n",
    "matplotlib.pyplot.figure(figsize=(16, 8), dpi=100)\n",
    "matplotlib.pyplot.scatter(xh, yh)\n",
    "for i in range(4):\n",
    "    if (i == 0):\n",
    "        temp_x = xh\n",
    "    else:\n",
    "        t = xh ** (i+1)\n",
    "        temp_x = np.concatenate((temp_x, t), axis=1)\n",
    "        # temp_x = np.vstack((t,(xh ** (i+1))))\\n\",\n",
    "    # temp_x = temp_x.reshape(200,i+1)\\n\",\n",
    "    y = np.asarray(yh)\n",
    "    # y = y.reshape(200,)\\n\",\n",
    "    # y = y.reshape(200,1)\\n\",\n",
    "    model = OLS(y, temp_x)\n",
    "    p = model.predict()\n",
    "    p = p.reshape(200,1)\n",
    "    tt = np.concatenate((xh, p), axis=1) # join х and predicted values (p)\n",
    "    tt = np.sort(tt, axis = 0) # sort by x\n",
    "    matplotlib.pyplot.plot(tt[:,0],tt[:,1], color = color_dict[i], linewidth = 3, label = 'K = ' + str(i))\n",
    "    matplotlib.pyplot.legend()\n",
    "    # matplotlib.pyplot.plot(xh,p, snap = False, color = color_dict[i], linewidth = 3)"
   ]
  },
  {
   "cell_type": "markdown",
   "metadata": {},
   "source": [
    "# 3"
   ]
  },
  {
   "cell_type": "code",
   "execution_count": 20,
   "metadata": {
    "scrolled": true
   },
   "outputs": [
    {
     "data": {
      "text/plain": [
       "array([ True,  True,  True,  True,  True,  True,  True,  True,  True,\n",
       "        True, False,  True,  True,  True,  True,  True,  True,  True,\n",
       "        True,  True,  True,  True,  True,  True,  True,  True,  True,\n",
       "        True,  True,  True,  True,  True,  True,  True,  True,  True,\n",
       "        True,  True,  True, False,  True,  True,  True, False,  True,\n",
       "        True,  True,  True,  True,  True,  True,  True, False, False,\n",
       "        True,  True,  True,  True,  True,  True,  True,  True,  True,\n",
       "       False,  True,  True,  True,  True,  True,  True,  True,  True,\n",
       "        True,  True,  True,  True,  True,  True,  True,  True,  True,\n",
       "        True,  True,  True,  True,  True,  True,  True,  True,  True,\n",
       "        True,  True,  True,  True,  True,  True,  True, False,  True,  True], dtype=bool)"
      ]
     },
     "execution_count": 20,
     "metadata": {},
     "output_type": "execute_result"
    }
   ],
   "source": [
    "nrows, ncols = 100, 100\n",
    "matrix = np.random.normal(0, 1, size=(nrows, ncols)).astype('float64')\n",
    "\n",
    "# 1A (for columns)\n",
    "from scipy import stats\n",
    "n = len(matrix)\n",
    "col_means = np.mean(matrix, axis=0)\n",
    "col_stds = np.std(matrix, axis=0)\n",
    "col_ses = np.sqrt(col_stds / n)\n",
    "t_cr = stats.t.isf(0.05, n-1)\n",
    "col_width = col_ses * t_cr\n",
    "col_ci_up = col_means + col_width\n",
    "col_ci_low = col_means - col_width\n",
    "col_zero = (col_ci_up > 0) & (col_ci_low < 0)\n",
    "col_zero"
   ]
  },
  {
   "cell_type": "code",
   "execution_count": 21,
   "metadata": {},
   "outputs": [
    {
     "data": {
      "text/plain": [
       "93"
      ]
     },
     "execution_count": 21,
     "metadata": {},
     "output_type": "execute_result"
    }
   ],
   "source": [
    "# 2A\n",
    "sum(col_zero)"
   ]
  },
  {
   "cell_type": "code",
   "execution_count": 22,
   "metadata": {},
   "outputs": [
    {
     "data": {
      "text/plain": [
       "array([ True,  True,  True,  True,  True, False,  True,  True,  True,\n",
       "        True,  True,  True,  True,  True,  True,  True,  True, False,\n",
       "        True,  True,  True,  True,  True,  True,  True,  True,  True,\n",
       "        True,  True,  True,  True,  True,  True,  True,  True,  True,\n",
       "        True,  True, False,  True, False,  True,  True,  True,  True,\n",
       "        True,  True,  True,  True,  True,  True,  True,  True,  True,\n",
       "        True,  True,  True,  True,  True,  True,  True,  True,  True,\n",
       "        True,  True, False,  True,  True,  True,  True,  True,  True,\n",
       "        True,  True,  True,  True,  True,  True,  True,  True,  True,\n",
       "        True,  True,  True,  True,  True,  True,  True,  True,  True,\n",
       "        True,  True,  True,  True,  True,  True,  True,  True,  True,  True], dtype=bool)"
      ]
     },
     "execution_count": 22,
     "metadata": {},
     "output_type": "execute_result"
    }
   ],
   "source": [
    "# 1B\n",
    "nrows, ncols = 100, 100\n",
    "matrix = np.random.normal(0, 1, size=(nrows, ncols)).astype('float64')\n",
    "\n",
    "# 1A (for )\n",
    "from scipy import stats\n",
    "n = len(matrix)\n",
    "row_means = np.mean(matrix, axis=1)\n",
    "row_stds = np.std(matrix, axis=1)\n",
    "row_ses = np.sqrt(row_stds / n)\n",
    "t_cr = stats.t.isf(0.05, n-1)\n",
    "row_width = row_ses * t_cr\n",
    "row_ci_up = row_means + row_width\n",
    "row_ci_low = row_means - row_width\n",
    "row_zero = (row_ci_up > 0) & (row_ci_low < 0)\n",
    "row_zero"
   ]
  },
  {
   "cell_type": "code",
   "execution_count": 23,
   "metadata": {},
   "outputs": [
    {
     "data": {
      "text/plain": [
       "95"
      ]
     },
     "execution_count": 23,
     "metadata": {},
     "output_type": "execute_result"
    }
   ],
   "source": [
    "# 2B\n",
    "sum(row_zero)"
   ]
  },
  {
   "cell_type": "markdown",
   "metadata": {
    "collapsed": true
   },
   "source": [
    "# 4"
   ]
  },
  {
   "cell_type": "code",
   "execution_count": 24,
   "metadata": {},
   "outputs": [
    {
     "data": {
      "text/html": [
       "<div>\n",
       "<style>\n",
       "    .dataframe thead tr:only-child th {\n",
       "        text-align: right;\n",
       "    }\n",
       "\n",
       "    .dataframe thead th {\n",
       "        text-align: left;\n",
       "    }\n",
       "\n",
       "    .dataframe tbody tr th {\n",
       "        vertical-align: top;\n",
       "    }\n",
       "</style>\n",
       "<table border=\"1\" class=\"dataframe\">\n",
       "  <thead>\n",
       "    <tr style=\"text-align: right;\">\n",
       "      <th></th>\n",
       "      <th>n</th>\n",
       "      <th>player</th>\n",
       "      <th>season</th>\n",
       "      <th>team</th>\n",
       "      <th>position</th>\n",
       "      <th>games_played</th>\n",
       "    </tr>\n",
       "  </thead>\n",
       "  <tbody>\n",
       "    <tr>\n",
       "      <th>0</th>\n",
       "      <td>1</td>\n",
       "      <td>Cam Talbot</td>\n",
       "      <td>2016-17</td>\n",
       "      <td>EDM</td>\n",
       "      <td>G</td>\n",
       "      <td>73</td>\n",
       "    </tr>\n",
       "    <tr>\n",
       "      <th>1</th>\n",
       "      <td>2</td>\n",
       "      <td>Braden Holtby</td>\n",
       "      <td>2016-17</td>\n",
       "      <td>WSH</td>\n",
       "      <td>G</td>\n",
       "      <td>63</td>\n",
       "    </tr>\n",
       "    <tr>\n",
       "      <th>2</th>\n",
       "      <td>3</td>\n",
       "      <td>Sergei Bobrovsky</td>\n",
       "      <td>2016-17</td>\n",
       "      <td>CBJ</td>\n",
       "      <td>G</td>\n",
       "      <td>63</td>\n",
       "    </tr>\n",
       "    <tr>\n",
       "      <th>3</th>\n",
       "      <td>4</td>\n",
       "      <td>Devan Dubnyk</td>\n",
       "      <td>2016-17</td>\n",
       "      <td>MIN</td>\n",
       "      <td>G</td>\n",
       "      <td>65</td>\n",
       "    </tr>\n",
       "    <tr>\n",
       "      <th>4</th>\n",
       "      <td>5</td>\n",
       "      <td>Tuukka Rask</td>\n",
       "      <td>2016-17</td>\n",
       "      <td>BOS</td>\n",
       "      <td>G</td>\n",
       "      <td>65</td>\n",
       "    </tr>\n",
       "  </tbody>\n",
       "</table>\n",
       "</div>"
      ],
      "text/plain": [
       "   n            player   season team position  games_played\n",
       "0  1        Cam Talbot  2016-17  EDM        G            73\n",
       "1  2     Braden Holtby  2016-17  WSH        G            63\n",
       "2  3  Sergei Bobrovsky  2016-17  CBJ        G            63\n",
       "3  4      Devan Dubnyk  2016-17  MIN        G            65\n",
       "4  5       Tuukka Rask  2016-17  BOS        G            65"
      ]
     },
     "execution_count": 24,
     "metadata": {},
     "output_type": "execute_result"
    }
   ],
   "source": [
    "# 1\n",
    "df = pd.read_csv('goalies-2014-2016.csv', skiprows = 0, sep = ';')\n",
    "first_6_col = list(df.columns)[:6]\n",
    "df.head()[first_6_col]"
   ]
  },
  {
   "cell_type": "code",
   "execution_count": 25,
   "metadata": {},
   "outputs": [
    {
     "data": {
      "text/plain": [
       "0.00049999999999994493"
      ]
     },
     "execution_count": 25,
     "metadata": {},
     "output_type": "execute_result"
    }
   ],
   "source": [
    "# 2\n",
    "df['save_percentage_self'] = df['saves'] / df['shots_against']\n",
    "df['error'] = df['save_percentage'] - df['save_percentage_self']\n",
    "df['error'].max()"
   ]
  },
  {
   "cell_type": "code",
   "execution_count": 26,
   "metadata": {},
   "outputs": [
    {
     "name": "stdout",
     "output_type": "stream",
     "text": [
      "goals_against      53.351779\n",
      "games_played       22.285395\n",
      "save_percentage     0.071260\n",
      "dtype: float64\n",
      "goals_against      67.605735\n",
      "games_played       28.476703\n",
      "save_percentage     0.901179\n",
      "dtype: float64\n"
     ]
    }
   ],
   "source": [
    "# 3\n",
    "col_std = ['goals_against', 'games_played', 'save_percentage']\n",
    "print(df[col_std].std())\n",
    "print(df[col_std].mean())"
   ]
  },
  {
   "cell_type": "code",
   "execution_count": 27,
   "metadata": {
    "scrolled": false
   },
   "outputs": [
    {
     "data": {
      "text/html": [
       "<div>\n",
       "<style>\n",
       "    .dataframe thead tr:only-child th {\n",
       "        text-align: right;\n",
       "    }\n",
       "\n",
       "    .dataframe thead th {\n",
       "        text-align: left;\n",
       "    }\n",
       "\n",
       "    .dataframe tbody tr th {\n",
       "        vertical-align: top;\n",
       "    }\n",
       "</style>\n",
       "<table border=\"1\" class=\"dataframe\">\n",
       "  <thead>\n",
       "    <tr style=\"text-align: right;\">\n",
       "      <th></th>\n",
       "      <th>player</th>\n",
       "      <th>save_percentage</th>\n",
       "    </tr>\n",
       "  </thead>\n",
       "  <tbody>\n",
       "    <tr>\n",
       "      <th>2</th>\n",
       "      <td>Sergei Bobrovsky</td>\n",
       "      <td>0.931</td>\n",
       "    </tr>\n",
       "  </tbody>\n",
       "</table>\n",
       "</div>"
      ],
      "text/plain": [
       "             player  save_percentage\n",
       "2  Sergei Bobrovsky            0.931"
      ]
     },
     "execution_count": 27,
     "metadata": {},
     "output_type": "execute_result"
    }
   ],
   "source": [
    "# 4\n",
    "df_4 = df[df['season'] == '2016-17'] \n",
    "df_4 = df_4[df_4['games_played'] > 40]\n",
    "df_4[df_4['save_percentage'] == df_4['save_percentage'].max()][['player','save_percentage']]"
   ]
  },
  {
   "cell_type": "code",
   "execution_count": 44,
   "metadata": {},
   "outputs": [
    {
     "data": {
      "text/html": [
       "<div>\n",
       "<style>\n",
       "    .dataframe thead tr:only-child th {\n",
       "        text-align: right;\n",
       "    }\n",
       "\n",
       "    .dataframe thead th {\n",
       "        text-align: left;\n",
       "    }\n",
       "\n",
       "    .dataframe tbody tr th {\n",
       "        vertical-align: top;\n",
       "    }\n",
       "</style>\n",
       "<table border=\"1\" class=\"dataframe\">\n",
       "  <thead>\n",
       "    <tr style=\"text-align: right;\">\n",
       "      <th></th>\n",
       "      <th>season</th>\n",
       "      <th>player</th>\n",
       "      <th>wins</th>\n",
       "    </tr>\n",
       "  </thead>\n",
       "  <tbody>\n",
       "    <tr>\n",
       "      <th>1</th>\n",
       "      <td>2016-17</td>\n",
       "      <td>Braden Holtby</td>\n",
       "      <td>42</td>\n",
       "    </tr>\n",
       "    <tr>\n",
       "      <th>3</th>\n",
       "      <td>2016-17</td>\n",
       "      <td>Devan Dubnyk</td>\n",
       "      <td>40</td>\n",
       "    </tr>\n",
       "    <tr>\n",
       "      <th>4</th>\n",
       "      <td>2016-17</td>\n",
       "      <td>Tuukka Rask</td>\n",
       "      <td>37</td>\n",
       "    </tr>\n",
       "    <tr>\n",
       "      <th>10</th>\n",
       "      <td>2016-17</td>\n",
       "      <td>Corey Crawford</td>\n",
       "      <td>32</td>\n",
       "    </tr>\n",
       "    <tr>\n",
       "      <th>11</th>\n",
       "      <td>2016-17</td>\n",
       "      <td>Pekka Rinne</td>\n",
       "      <td>31</td>\n",
       "    </tr>\n",
       "    <tr>\n",
       "      <th>12</th>\n",
       "      <td>2016-17</td>\n",
       "      <td>Henrik Lundqvist</td>\n",
       "      <td>31</td>\n",
       "    </tr>\n",
       "    <tr>\n",
       "      <th>95</th>\n",
       "      <td>2015-16</td>\n",
       "      <td>Braden Holtby</td>\n",
       "      <td>48</td>\n",
       "    </tr>\n",
       "    <tr>\n",
       "      <th>101</th>\n",
       "      <td>2015-16</td>\n",
       "      <td>Corey Crawford</td>\n",
       "      <td>35</td>\n",
       "    </tr>\n",
       "    <tr>\n",
       "      <th>102</th>\n",
       "      <td>2015-16</td>\n",
       "      <td>Henrik Lundqvist</td>\n",
       "      <td>35</td>\n",
       "    </tr>\n",
       "    <tr>\n",
       "      <th>103</th>\n",
       "      <td>2015-16</td>\n",
       "      <td>Pekka Rinne</td>\n",
       "      <td>34</td>\n",
       "    </tr>\n",
       "    <tr>\n",
       "      <th>104</th>\n",
       "      <td>2015-16</td>\n",
       "      <td>Devan Dubnyk</td>\n",
       "      <td>32</td>\n",
       "    </tr>\n",
       "    <tr>\n",
       "      <th>105</th>\n",
       "      <td>2015-16</td>\n",
       "      <td>Tuukka Rask</td>\n",
       "      <td>31</td>\n",
       "    </tr>\n",
       "    <tr>\n",
       "      <th>188</th>\n",
       "      <td>2014-15</td>\n",
       "      <td>Pekka Rinne</td>\n",
       "      <td>41</td>\n",
       "    </tr>\n",
       "    <tr>\n",
       "      <th>189</th>\n",
       "      <td>2014-15</td>\n",
       "      <td>Braden Holtby</td>\n",
       "      <td>41</td>\n",
       "    </tr>\n",
       "    <tr>\n",
       "      <th>193</th>\n",
       "      <td>2014-15</td>\n",
       "      <td>Devan Dubnyk</td>\n",
       "      <td>36</td>\n",
       "    </tr>\n",
       "    <tr>\n",
       "      <th>197</th>\n",
       "      <td>2014-15</td>\n",
       "      <td>Tuukka Rask</td>\n",
       "      <td>34</td>\n",
       "    </tr>\n",
       "    <tr>\n",
       "      <th>198</th>\n",
       "      <td>2014-15</td>\n",
       "      <td>Corey Crawford</td>\n",
       "      <td>32</td>\n",
       "    </tr>\n",
       "    <tr>\n",
       "      <th>200</th>\n",
       "      <td>2014-15</td>\n",
       "      <td>Henrik Lundqvist</td>\n",
       "      <td>30</td>\n",
       "    </tr>\n",
       "  </tbody>\n",
       "</table>\n",
       "</div>"
      ],
      "text/plain": [
       "      season            player  wins\n",
       "1    2016-17     Braden Holtby    42\n",
       "3    2016-17      Devan Dubnyk    40\n",
       "4    2016-17       Tuukka Rask    37\n",
       "10   2016-17    Corey Crawford    32\n",
       "11   2016-17       Pekka Rinne    31\n",
       "12   2016-17  Henrik Lundqvist    31\n",
       "95   2015-16     Braden Holtby    48\n",
       "101  2015-16    Corey Crawford    35\n",
       "102  2015-16  Henrik Lundqvist    35\n",
       "103  2015-16       Pekka Rinne    34\n",
       "104  2015-16      Devan Dubnyk    32\n",
       "105  2015-16       Tuukka Rask    31\n",
       "188  2014-15       Pekka Rinne    41\n",
       "189  2014-15     Braden Holtby    41\n",
       "193  2014-15      Devan Dubnyk    36\n",
       "197  2014-15       Tuukka Rask    34\n",
       "198  2014-15    Corey Crawford    32\n",
       "200  2014-15  Henrik Lundqvist    30"
      ]
     },
     "execution_count": 44,
     "metadata": {},
     "output_type": "execute_result"
    }
   ],
   "source": [
    "# 6\n",
    "df_6 = df[df['wins'] > 29][['season', 'player', 'wins']]\n",
    "df_6 = df_6.groupby(\"player\").filter(lambda x: len(x) == 3)\n",
    "df_6"
   ]
  },
  {
   "cell_type": "code",
   "execution_count": 45,
   "metadata": {},
   "outputs": [
    {
     "data": {
      "text/plain": [
       "array(['Braden Holtby', 'Devan Dubnyk', 'Tuukka Rask', 'Corey Crawford',\n",
       "       'Pekka Rinne', 'Henrik Lundqvist'], dtype=object)"
      ]
     },
     "execution_count": 45,
     "metadata": {},
     "output_type": "execute_result"
    }
   ],
   "source": [
    "df_6.player.unique()"
   ]
  }
 ],
 "metadata": {
  "kernelspec": {
   "display_name": "Python 3",
   "language": "python",
   "name": "python3"
  },
  "language_info": {
   "codemirror_mode": {
    "name": "ipython",
    "version": 3
   },
   "file_extension": ".py",
   "mimetype": "text/x-python",
   "name": "python",
   "nbconvert_exporter": "python",
   "pygments_lexer": "ipython3",
   "version": "3.6.3"
  }
 },
 "nbformat": 4,
 "nbformat_minor": 2
}
